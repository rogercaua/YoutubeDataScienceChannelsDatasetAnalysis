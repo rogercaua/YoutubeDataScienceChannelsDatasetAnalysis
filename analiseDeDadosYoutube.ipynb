{
 "cells": [
  {
   "cell_type": "code",
   "execution_count": 1,
   "metadata": {},
   "outputs": [
    {
     "ename": "FileNotFoundError",
     "evalue": "[Errno 2] No such file or directory: './youtubeDataSet.csv'",
     "output_type": "error",
     "traceback": [
      "\u001b[1;31m---------------------------------------------------------------------------\u001b[0m",
      "\u001b[1;31mFileNotFoundError\u001b[0m                         Traceback (most recent call last)",
      "Cell \u001b[1;32mIn[1], line 5\u001b[0m\n\u001b[0;32m      2\u001b[0m \u001b[38;5;28;01mimport\u001b[39;00m \u001b[38;5;21;01mmatplotlib\u001b[39;00m\u001b[38;5;21;01m.\u001b[39;00m\u001b[38;5;21;01mpyplot\u001b[39;00m \u001b[38;5;28;01mas\u001b[39;00m \u001b[38;5;21;01mplt\u001b[39;00m\n\u001b[0;32m      4\u001b[0m csv \u001b[38;5;241m=\u001b[39m \u001b[38;5;124m\"\u001b[39m\u001b[38;5;124m./youtubeDataSet.csv\u001b[39m\u001b[38;5;124m\"\u001b[39m\n\u001b[1;32m----> 5\u001b[0m df \u001b[38;5;241m=\u001b[39m pd\u001b[38;5;241m.\u001b[39mread_csv(csv)\n",
      "File \u001b[1;32mc:\\ProgramData\\anaconda3\\Lib\\site-packages\\pandas\\io\\parsers\\readers.py:1026\u001b[0m, in \u001b[0;36mread_csv\u001b[1;34m(filepath_or_buffer, sep, delimiter, header, names, index_col, usecols, dtype, engine, converters, true_values, false_values, skipinitialspace, skiprows, skipfooter, nrows, na_values, keep_default_na, na_filter, verbose, skip_blank_lines, parse_dates, infer_datetime_format, keep_date_col, date_parser, date_format, dayfirst, cache_dates, iterator, chunksize, compression, thousands, decimal, lineterminator, quotechar, quoting, doublequote, escapechar, comment, encoding, encoding_errors, dialect, on_bad_lines, delim_whitespace, low_memory, memory_map, float_precision, storage_options, dtype_backend)\u001b[0m\n\u001b[0;32m   1013\u001b[0m kwds_defaults \u001b[38;5;241m=\u001b[39m _refine_defaults_read(\n\u001b[0;32m   1014\u001b[0m     dialect,\n\u001b[0;32m   1015\u001b[0m     delimiter,\n\u001b[1;32m   (...)\u001b[0m\n\u001b[0;32m   1022\u001b[0m     dtype_backend\u001b[38;5;241m=\u001b[39mdtype_backend,\n\u001b[0;32m   1023\u001b[0m )\n\u001b[0;32m   1024\u001b[0m kwds\u001b[38;5;241m.\u001b[39mupdate(kwds_defaults)\n\u001b[1;32m-> 1026\u001b[0m \u001b[38;5;28;01mreturn\u001b[39;00m _read(filepath_or_buffer, kwds)\n",
      "File \u001b[1;32mc:\\ProgramData\\anaconda3\\Lib\\site-packages\\pandas\\io\\parsers\\readers.py:620\u001b[0m, in \u001b[0;36m_read\u001b[1;34m(filepath_or_buffer, kwds)\u001b[0m\n\u001b[0;32m    617\u001b[0m _validate_names(kwds\u001b[38;5;241m.\u001b[39mget(\u001b[38;5;124m\"\u001b[39m\u001b[38;5;124mnames\u001b[39m\u001b[38;5;124m\"\u001b[39m, \u001b[38;5;28;01mNone\u001b[39;00m))\n\u001b[0;32m    619\u001b[0m \u001b[38;5;66;03m# Create the parser.\u001b[39;00m\n\u001b[1;32m--> 620\u001b[0m parser \u001b[38;5;241m=\u001b[39m TextFileReader(filepath_or_buffer, \u001b[38;5;241m*\u001b[39m\u001b[38;5;241m*\u001b[39mkwds)\n\u001b[0;32m    622\u001b[0m \u001b[38;5;28;01mif\u001b[39;00m chunksize \u001b[38;5;129;01mor\u001b[39;00m iterator:\n\u001b[0;32m    623\u001b[0m     \u001b[38;5;28;01mreturn\u001b[39;00m parser\n",
      "File \u001b[1;32mc:\\ProgramData\\anaconda3\\Lib\\site-packages\\pandas\\io\\parsers\\readers.py:1620\u001b[0m, in \u001b[0;36mTextFileReader.__init__\u001b[1;34m(self, f, engine, **kwds)\u001b[0m\n\u001b[0;32m   1617\u001b[0m     \u001b[38;5;28mself\u001b[39m\u001b[38;5;241m.\u001b[39moptions[\u001b[38;5;124m\"\u001b[39m\u001b[38;5;124mhas_index_names\u001b[39m\u001b[38;5;124m\"\u001b[39m] \u001b[38;5;241m=\u001b[39m kwds[\u001b[38;5;124m\"\u001b[39m\u001b[38;5;124mhas_index_names\u001b[39m\u001b[38;5;124m\"\u001b[39m]\n\u001b[0;32m   1619\u001b[0m \u001b[38;5;28mself\u001b[39m\u001b[38;5;241m.\u001b[39mhandles: IOHandles \u001b[38;5;241m|\u001b[39m \u001b[38;5;28;01mNone\u001b[39;00m \u001b[38;5;241m=\u001b[39m \u001b[38;5;28;01mNone\u001b[39;00m\n\u001b[1;32m-> 1620\u001b[0m \u001b[38;5;28mself\u001b[39m\u001b[38;5;241m.\u001b[39m_engine \u001b[38;5;241m=\u001b[39m \u001b[38;5;28mself\u001b[39m\u001b[38;5;241m.\u001b[39m_make_engine(f, \u001b[38;5;28mself\u001b[39m\u001b[38;5;241m.\u001b[39mengine)\n",
      "File \u001b[1;32mc:\\ProgramData\\anaconda3\\Lib\\site-packages\\pandas\\io\\parsers\\readers.py:1880\u001b[0m, in \u001b[0;36mTextFileReader._make_engine\u001b[1;34m(self, f, engine)\u001b[0m\n\u001b[0;32m   1878\u001b[0m     \u001b[38;5;28;01mif\u001b[39;00m \u001b[38;5;124m\"\u001b[39m\u001b[38;5;124mb\u001b[39m\u001b[38;5;124m\"\u001b[39m \u001b[38;5;129;01mnot\u001b[39;00m \u001b[38;5;129;01min\u001b[39;00m mode:\n\u001b[0;32m   1879\u001b[0m         mode \u001b[38;5;241m+\u001b[39m\u001b[38;5;241m=\u001b[39m \u001b[38;5;124m\"\u001b[39m\u001b[38;5;124mb\u001b[39m\u001b[38;5;124m\"\u001b[39m\n\u001b[1;32m-> 1880\u001b[0m \u001b[38;5;28mself\u001b[39m\u001b[38;5;241m.\u001b[39mhandles \u001b[38;5;241m=\u001b[39m get_handle(\n\u001b[0;32m   1881\u001b[0m     f,\n\u001b[0;32m   1882\u001b[0m     mode,\n\u001b[0;32m   1883\u001b[0m     encoding\u001b[38;5;241m=\u001b[39m\u001b[38;5;28mself\u001b[39m\u001b[38;5;241m.\u001b[39moptions\u001b[38;5;241m.\u001b[39mget(\u001b[38;5;124m\"\u001b[39m\u001b[38;5;124mencoding\u001b[39m\u001b[38;5;124m\"\u001b[39m, \u001b[38;5;28;01mNone\u001b[39;00m),\n\u001b[0;32m   1884\u001b[0m     compression\u001b[38;5;241m=\u001b[39m\u001b[38;5;28mself\u001b[39m\u001b[38;5;241m.\u001b[39moptions\u001b[38;5;241m.\u001b[39mget(\u001b[38;5;124m\"\u001b[39m\u001b[38;5;124mcompression\u001b[39m\u001b[38;5;124m\"\u001b[39m, \u001b[38;5;28;01mNone\u001b[39;00m),\n\u001b[0;32m   1885\u001b[0m     memory_map\u001b[38;5;241m=\u001b[39m\u001b[38;5;28mself\u001b[39m\u001b[38;5;241m.\u001b[39moptions\u001b[38;5;241m.\u001b[39mget(\u001b[38;5;124m\"\u001b[39m\u001b[38;5;124mmemory_map\u001b[39m\u001b[38;5;124m\"\u001b[39m, \u001b[38;5;28;01mFalse\u001b[39;00m),\n\u001b[0;32m   1886\u001b[0m     is_text\u001b[38;5;241m=\u001b[39mis_text,\n\u001b[0;32m   1887\u001b[0m     errors\u001b[38;5;241m=\u001b[39m\u001b[38;5;28mself\u001b[39m\u001b[38;5;241m.\u001b[39moptions\u001b[38;5;241m.\u001b[39mget(\u001b[38;5;124m\"\u001b[39m\u001b[38;5;124mencoding_errors\u001b[39m\u001b[38;5;124m\"\u001b[39m, \u001b[38;5;124m\"\u001b[39m\u001b[38;5;124mstrict\u001b[39m\u001b[38;5;124m\"\u001b[39m),\n\u001b[0;32m   1888\u001b[0m     storage_options\u001b[38;5;241m=\u001b[39m\u001b[38;5;28mself\u001b[39m\u001b[38;5;241m.\u001b[39moptions\u001b[38;5;241m.\u001b[39mget(\u001b[38;5;124m\"\u001b[39m\u001b[38;5;124mstorage_options\u001b[39m\u001b[38;5;124m\"\u001b[39m, \u001b[38;5;28;01mNone\u001b[39;00m),\n\u001b[0;32m   1889\u001b[0m )\n\u001b[0;32m   1890\u001b[0m \u001b[38;5;28;01massert\u001b[39;00m \u001b[38;5;28mself\u001b[39m\u001b[38;5;241m.\u001b[39mhandles \u001b[38;5;129;01mis\u001b[39;00m \u001b[38;5;129;01mnot\u001b[39;00m \u001b[38;5;28;01mNone\u001b[39;00m\n\u001b[0;32m   1891\u001b[0m f \u001b[38;5;241m=\u001b[39m \u001b[38;5;28mself\u001b[39m\u001b[38;5;241m.\u001b[39mhandles\u001b[38;5;241m.\u001b[39mhandle\n",
      "File \u001b[1;32mc:\\ProgramData\\anaconda3\\Lib\\site-packages\\pandas\\io\\common.py:873\u001b[0m, in \u001b[0;36mget_handle\u001b[1;34m(path_or_buf, mode, encoding, compression, memory_map, is_text, errors, storage_options)\u001b[0m\n\u001b[0;32m    868\u001b[0m \u001b[38;5;28;01melif\u001b[39;00m \u001b[38;5;28misinstance\u001b[39m(handle, \u001b[38;5;28mstr\u001b[39m):\n\u001b[0;32m    869\u001b[0m     \u001b[38;5;66;03m# Check whether the filename is to be opened in binary mode.\u001b[39;00m\n\u001b[0;32m    870\u001b[0m     \u001b[38;5;66;03m# Binary mode does not support 'encoding' and 'newline'.\u001b[39;00m\n\u001b[0;32m    871\u001b[0m     \u001b[38;5;28;01mif\u001b[39;00m ioargs\u001b[38;5;241m.\u001b[39mencoding \u001b[38;5;129;01mand\u001b[39;00m \u001b[38;5;124m\"\u001b[39m\u001b[38;5;124mb\u001b[39m\u001b[38;5;124m\"\u001b[39m \u001b[38;5;129;01mnot\u001b[39;00m \u001b[38;5;129;01min\u001b[39;00m ioargs\u001b[38;5;241m.\u001b[39mmode:\n\u001b[0;32m    872\u001b[0m         \u001b[38;5;66;03m# Encoding\u001b[39;00m\n\u001b[1;32m--> 873\u001b[0m         handle \u001b[38;5;241m=\u001b[39m \u001b[38;5;28mopen\u001b[39m(\n\u001b[0;32m    874\u001b[0m             handle,\n\u001b[0;32m    875\u001b[0m             ioargs\u001b[38;5;241m.\u001b[39mmode,\n\u001b[0;32m    876\u001b[0m             encoding\u001b[38;5;241m=\u001b[39mioargs\u001b[38;5;241m.\u001b[39mencoding,\n\u001b[0;32m    877\u001b[0m             errors\u001b[38;5;241m=\u001b[39merrors,\n\u001b[0;32m    878\u001b[0m             newline\u001b[38;5;241m=\u001b[39m\u001b[38;5;124m\"\u001b[39m\u001b[38;5;124m\"\u001b[39m,\n\u001b[0;32m    879\u001b[0m         )\n\u001b[0;32m    880\u001b[0m     \u001b[38;5;28;01melse\u001b[39;00m:\n\u001b[0;32m    881\u001b[0m         \u001b[38;5;66;03m# Binary mode\u001b[39;00m\n\u001b[0;32m    882\u001b[0m         handle \u001b[38;5;241m=\u001b[39m \u001b[38;5;28mopen\u001b[39m(handle, ioargs\u001b[38;5;241m.\u001b[39mmode)\n",
      "\u001b[1;31mFileNotFoundError\u001b[0m: [Errno 2] No such file or directory: './youtubeDataSet.csv'"
     ]
    }
   ],
   "source": [
    "import pandas as pd\n",
    "import matplotlib.pyplot as plt\n",
    "\n",
    "csv = \"./youtubeDataSet.csv\"\n",
    "df = pd.read_csv(csv)\n"
   ]
  },
  {
   "cell_type": "code",
   "execution_count": 3,
   "metadata": {},
   "outputs": [
    {
     "data": {
      "text/html": [
       "<div>\n",
       "<style scoped>\n",
       "    .dataframe tbody tr th:only-of-type {\n",
       "        vertical-align: middle;\n",
       "    }\n",
       "\n",
       "    .dataframe tbody tr th {\n",
       "        vertical-align: top;\n",
       "    }\n",
       "\n",
       "    .dataframe thead th {\n",
       "        text-align: right;\n",
       "    }\n",
       "</style>\n",
       "<table border=\"1\" class=\"dataframe\">\n",
       "  <thead>\n",
       "    <tr style=\"text-align: right;\">\n",
       "      <th></th>\n",
       "      <th>Channel_Name</th>\n",
       "      <th>Title</th>\n",
       "      <th>Published_date</th>\n",
       "      <th>Views</th>\n",
       "      <th>Like_count</th>\n",
       "      <th>Comment_Count</th>\n",
       "    </tr>\n",
       "  </thead>\n",
       "  <tbody>\n",
       "    <tr>\n",
       "      <th>0</th>\n",
       "      <td>Rishabh Mishra</td>\n",
       "      <td>POWER BI Full PROJECT for Data Analysis with P...</td>\n",
       "      <td>2024-04-20</td>\n",
       "      <td>157284.0</td>\n",
       "      <td>5575.0</td>\n",
       "      <td>632.0</td>\n",
       "    </tr>\n",
       "    <tr>\n",
       "      <th>1</th>\n",
       "      <td>Rishabh Mishra</td>\n",
       "      <td>AI Revolution - Future of Data Analyst Jobs &amp; ...</td>\n",
       "      <td>2024-03-23</td>\n",
       "      <td>78155.0</td>\n",
       "      <td>2712.0</td>\n",
       "      <td>245.0</td>\n",
       "    </tr>\n",
       "    <tr>\n",
       "      <th>2</th>\n",
       "      <td>Rishabh Mishra</td>\n",
       "      <td>Reality of Data Analyst Courses and Data Scien...</td>\n",
       "      <td>2024-03-16</td>\n",
       "      <td>43627.0</td>\n",
       "      <td>1285.0</td>\n",
       "      <td>267.0</td>\n",
       "    </tr>\n",
       "    <tr>\n",
       "      <th>3</th>\n",
       "      <td>Rishabh Mishra</td>\n",
       "      <td>Personal Portfolio Website for Beginners | How...</td>\n",
       "      <td>2024-01-21</td>\n",
       "      <td>129956.0</td>\n",
       "      <td>3462.0</td>\n",
       "      <td>358.0</td>\n",
       "    </tr>\n",
       "    <tr>\n",
       "      <th>4</th>\n",
       "      <td>Rishabh Mishra</td>\n",
       "      <td>How To Create LinkedIn Profile in 2024 | Linke...</td>\n",
       "      <td>2024-01-17</td>\n",
       "      <td>143309.0</td>\n",
       "      <td>3389.0</td>\n",
       "      <td>192.0</td>\n",
       "    </tr>\n",
       "  </tbody>\n",
       "</table>\n",
       "</div>"
      ],
      "text/plain": [
       "     Channel_Name                                              Title  \\\n",
       "0  Rishabh Mishra  POWER BI Full PROJECT for Data Analysis with P...   \n",
       "1  Rishabh Mishra  AI Revolution - Future of Data Analyst Jobs & ...   \n",
       "2  Rishabh Mishra  Reality of Data Analyst Courses and Data Scien...   \n",
       "3  Rishabh Mishra  Personal Portfolio Website for Beginners | How...   \n",
       "4  Rishabh Mishra  How To Create LinkedIn Profile in 2024 | Linke...   \n",
       "\n",
       "  Published_date     Views  Like_count  Comment_Count  \n",
       "0     2024-04-20  157284.0      5575.0          632.0  \n",
       "1     2024-03-23   78155.0      2712.0          245.0  \n",
       "2     2024-03-16   43627.0      1285.0          267.0  \n",
       "3     2024-01-21  129956.0      3462.0          358.0  \n",
       "4     2024-01-17  143309.0      3389.0          192.0  "
      ]
     },
     "execution_count": 3,
     "metadata": {},
     "output_type": "execute_result"
    }
   ],
   "source": [
    "df.head()"
   ]
  },
  {
   "cell_type": "code",
   "execution_count": 4,
   "metadata": {},
   "outputs": [
    {
     "name": "stdout",
     "output_type": "stream",
     "text": [
      "<class 'pandas.core.frame.DataFrame'>\n",
      "RangeIndex: 23002 entries, 0 to 23001\n",
      "Data columns (total 6 columns):\n",
      " #   Column          Non-Null Count  Dtype  \n",
      "---  ------          --------------  -----  \n",
      " 0   Channel_Name    23002 non-null  object \n",
      " 1   Title           23002 non-null  object \n",
      " 2   Published_date  23002 non-null  object \n",
      " 3   Views           23000 non-null  float64\n",
      " 4   Like_count      22967 non-null  float64\n",
      " 5   Comment_Count   22975 non-null  float64\n",
      "dtypes: float64(3), object(3)\n",
      "memory usage: 1.1+ MB\n"
     ]
    }
   ],
   "source": [
    "df.info()"
   ]
  },
  {
   "cell_type": "code",
   "execution_count": 5,
   "metadata": {},
   "outputs": [
    {
     "data": {
      "text/html": [
       "<div>\n",
       "<style scoped>\n",
       "    .dataframe tbody tr th:only-of-type {\n",
       "        vertical-align: middle;\n",
       "    }\n",
       "\n",
       "    .dataframe tbody tr th {\n",
       "        vertical-align: top;\n",
       "    }\n",
       "\n",
       "    .dataframe thead th {\n",
       "        text-align: right;\n",
       "    }\n",
       "</style>\n",
       "<table border=\"1\" class=\"dataframe\">\n",
       "  <thead>\n",
       "    <tr style=\"text-align: right;\">\n",
       "      <th></th>\n",
       "      <th>Views</th>\n",
       "      <th>Like_count</th>\n",
       "      <th>Comment_Count</th>\n",
       "    </tr>\n",
       "  </thead>\n",
       "  <tbody>\n",
       "    <tr>\n",
       "      <th>count</th>\n",
       "      <td>2.300000e+04</td>\n",
       "      <td>2.296700e+04</td>\n",
       "      <td>22975.000000</td>\n",
       "    </tr>\n",
       "    <tr>\n",
       "      <th>mean</th>\n",
       "      <td>1.135679e+05</td>\n",
       "      <td>2.419010e+03</td>\n",
       "      <td>102.550120</td>\n",
       "    </tr>\n",
       "    <tr>\n",
       "      <th>std</th>\n",
       "      <td>5.401123e+05</td>\n",
       "      <td>1.256386e+04</td>\n",
       "      <td>431.296342</td>\n",
       "    </tr>\n",
       "    <tr>\n",
       "      <th>min</th>\n",
       "      <td>0.000000e+00</td>\n",
       "      <td>0.000000e+00</td>\n",
       "      <td>0.000000</td>\n",
       "    </tr>\n",
       "    <tr>\n",
       "      <th>25%</th>\n",
       "      <td>6.447750e+03</td>\n",
       "      <td>9.600000e+01</td>\n",
       "      <td>8.000000</td>\n",
       "    </tr>\n",
       "    <tr>\n",
       "      <th>50%</th>\n",
       "      <td>1.911850e+04</td>\n",
       "      <td>3.600000e+02</td>\n",
       "      <td>25.000000</td>\n",
       "    </tr>\n",
       "    <tr>\n",
       "      <th>75%</th>\n",
       "      <td>6.556725e+04</td>\n",
       "      <td>1.277000e+03</td>\n",
       "      <td>77.000000</td>\n",
       "    </tr>\n",
       "    <tr>\n",
       "      <th>max</th>\n",
       "      <td>4.426709e+07</td>\n",
       "      <td>1.041273e+06</td>\n",
       "      <td>44343.000000</td>\n",
       "    </tr>\n",
       "  </tbody>\n",
       "</table>\n",
       "</div>"
      ],
      "text/plain": [
       "              Views    Like_count  Comment_Count\n",
       "count  2.300000e+04  2.296700e+04   22975.000000\n",
       "mean   1.135679e+05  2.419010e+03     102.550120\n",
       "std    5.401123e+05  1.256386e+04     431.296342\n",
       "min    0.000000e+00  0.000000e+00       0.000000\n",
       "25%    6.447750e+03  9.600000e+01       8.000000\n",
       "50%    1.911850e+04  3.600000e+02      25.000000\n",
       "75%    6.556725e+04  1.277000e+03      77.000000\n",
       "max    4.426709e+07  1.041273e+06   44343.000000"
      ]
     },
     "execution_count": 5,
     "metadata": {},
     "output_type": "execute_result"
    }
   ],
   "source": [
    "df.describe()"
   ]
  },
  {
   "cell_type": "markdown",
   "metadata": {},
   "source": [
    "VALORES NULOS"
   ]
  },
  {
   "cell_type": "code",
   "execution_count": 6,
   "metadata": {},
   "outputs": [
    {
     "data": {
      "text/plain": [
       "Channel_Name       0\n",
       "Title              0\n",
       "Published_date     0\n",
       "Views              2\n",
       "Like_count        35\n",
       "Comment_Count     27\n",
       "dtype: int64"
      ]
     },
     "execution_count": 6,
     "metadata": {},
     "output_type": "execute_result"
    }
   ],
   "source": [
    "df.isnull().sum()"
   ]
  },
  {
   "cell_type": "markdown",
   "metadata": {},
   "source": [
    "VERIFICACAO DE DUPLICATAS"
   ]
  },
  {
   "cell_type": "code",
   "execution_count": 7,
   "metadata": {},
   "outputs": [
    {
     "data": {
      "text/plain": [
       "np.int64(0)"
      ]
     },
     "execution_count": 7,
     "metadata": {},
     "output_type": "execute_result"
    }
   ],
   "source": [
    "df.duplicated().sum()"
   ]
  },
  {
   "cell_type": "markdown",
   "metadata": {},
   "source": [
    "VIDEOS POR CANAL"
   ]
  },
  {
   "cell_type": "code",
   "execution_count": 8,
   "metadata": {},
   "outputs": [
    {
     "data": {
      "text/plain": [
       "Channel_Name\n",
       "WsCube Tech                    5167\n",
       "ExcelIsFun                     3698\n",
       "Krish Naik                     1836\n",
       "freeCodeCamp.org               1674\n",
       "sentdex                        1254\n",
       "CampusX                        1051\n",
       "Guy in a Cube                  1039\n",
       "codebasics                      881\n",
       "Kevin Stratvert                 858\n",
       "Socratica                       661\n",
       "Leila Gharani                   584\n",
       "Tableau Tim                     510\n",
       "Chandoo                         480\n",
       "DeepLearningAI                  435\n",
       "Kaggle                          380\n",
       "Nicholas Renotte                308\n",
       "Alex The Analyst                308\n",
       "Ken Jee                         287\n",
       "StatQuest with Josh Starmer     279\n",
       "Tina Huang                      222\n",
       "Luke Barousse                   159\n",
       "Ryan Nolan Data                 157\n",
       "Rob Mulla                       157\n",
       "Darshil Parmar                  152\n",
       "techTFQ                         136\n",
       "Keith Galli                      89\n",
       "Rishabh Mishra                   88\n",
       "Thu Vu data analytics            87\n",
       "Dataquest                        50\n",
       "Andrej Karpathy                  15\n",
       "Name: count, dtype: int64"
      ]
     },
     "execution_count": 8,
     "metadata": {},
     "output_type": "execute_result"
    }
   ],
   "source": [
    "videos_por_canal = df['Channel_Name'].value_counts()\n",
    "videos_por_canal"
   ]
  },
  {
   "cell_type": "markdown",
   "metadata": {},
   "source": [
    "VISUALIZACOES POR CANAL"
   ]
  },
  {
   "cell_type": "code",
   "execution_count": 9,
   "metadata": {},
   "outputs": [
    {
     "data": {
      "text/plain": [
       "Channel_Name\n",
       "freeCodeCamp.org               725320015.0\n",
       "Kevin Stratvert                422515221.0\n",
       "WsCube Tech                    292430002.0\n",
       "Leila Gharani                  253842158.0\n",
       "ExcelIsFun                     154836529.0\n",
       "sentdex                        114931493.0\n",
       "Krish Naik                      99108897.0\n",
       "codebasics                      86203394.0\n",
       "StatQuest with Josh Starmer     65995736.0\n",
       "Socratica                       59555652.0\n",
       "Chandoo                         48385963.0\n",
       "Guy in a Cube                   35831122.0\n",
       "Alex The Analyst                35648897.0\n",
       "Tina Huang                      31410567.0\n",
       "CampusX                         22376244.0\n",
       "Luke Barousse                   22239376.0\n",
       "DeepLearningAI                  18602260.0\n",
       "Nicholas Renotte                17793529.0\n",
       "techTFQ                         16808921.0\n",
       "Rishabh Mishra                  16654954.0\n",
       "Keith Galli                     15228622.0\n",
       "Rob Mulla                       11696557.0\n",
       "Andrej Karpathy                 10592556.0\n",
       "Ken Jee                          9020261.0\n",
       "Thu Vu data analytics            7920602.0\n",
       "Darshil Parmar                   6367251.0\n",
       "Kaggle                           4267776.0\n",
       "Tableau Tim                      4027167.0\n",
       "Dataquest                        2115867.0\n",
       "Ryan Nolan Data                   333511.0\n",
       "Name: Views, dtype: float64"
      ]
     },
     "execution_count": 9,
     "metadata": {},
     "output_type": "execute_result"
    }
   ],
   "source": [
    "visualizacoes_por_canal = df.groupby('Channel_Name')['Views'].sum().sort_values(ascending=False)\n",
    "visualizacoes_por_canal"
   ]
  },
  {
   "cell_type": "markdown",
   "metadata": {},
   "source": [
    "TOP 5 CANAIS POR VISUALIZACAO"
   ]
  },
  {
   "cell_type": "code",
   "execution_count": 10,
   "metadata": {},
   "outputs": [
    {
     "data": {
      "image/png": "[encoded data removed]",
      "text/plain": [
       "<Figure size 1000x500 with 1 Axes>"
      ]
     },
     "metadata": {},
     "output_type": "display_data"
    }
   ],
   "source": [
    "visualizacoes_por_canal.head(5).plot(kind='bar', color='purple', figsize=(10, 5), title='Top 5 Canais por Visualizações')\n",
    "plt.xlabel('Nome do Canal')\n",
    "plt.ylabel('Quantidade de Vídeos')\n",
    "plt.show()\n"
   ]
  },
  {
   "cell_type": "markdown",
   "metadata": {},
   "source": [
    "TOP 10 VIDEOS COM MAIS VIEWS"
   ]
  },
  {
   "cell_type": "code",
   "execution_count": 11,
   "metadata": {},
   "outputs": [
    {
     "data": {
      "text/html": [
       "<div>\n",
       "<style scoped>\n",
       "    .dataframe tbody tr th:only-of-type {\n",
       "        vertical-align: middle;\n",
       "    }\n",
       "\n",
       "    .dataframe tbody tr th {\n",
       "        vertical-align: top;\n",
       "    }\n",
       "\n",
       "    .dataframe thead th {\n",
       "        text-align: right;\n",
       "    }\n",
       "</style>\n",
       "<table border=\"1\" class=\"dataframe\">\n",
       "  <thead>\n",
       "    <tr style=\"text-align: right;\">\n",
       "      <th></th>\n",
       "      <th>Channel_Name</th>\n",
       "      <th>Title</th>\n",
       "      <th>Views</th>\n",
       "    </tr>\n",
       "  </thead>\n",
       "  <tbody>\n",
       "    <tr>\n",
       "      <th>13295</th>\n",
       "      <td>freeCodeCamp.org</td>\n",
       "      <td>Learn Python - Full Course for Beginners [Tuto...</td>\n",
       "      <td>44267093.0</td>\n",
       "    </tr>\n",
       "    <tr>\n",
       "      <th>3825</th>\n",
       "      <td>WsCube Tech</td>\n",
       "      <td>Ethical HACKING Full Course in 10 HOURS (Begin...</td>\n",
       "      <td>22017238.0</td>\n",
       "    </tr>\n",
       "    <tr>\n",
       "      <th>13312</th>\n",
       "      <td>freeCodeCamp.org</td>\n",
       "      <td>SQL Tutorial - Full Database Course for Beginners</td>\n",
       "      <td>18100085.0</td>\n",
       "    </tr>\n",
       "    <tr>\n",
       "      <th>13102</th>\n",
       "      <td>freeCodeCamp.org</td>\n",
       "      <td>Learn JavaScript - Full Course for Beginners</td>\n",
       "      <td>17141758.0</td>\n",
       "    </tr>\n",
       "    <tr>\n",
       "      <th>13242</th>\n",
       "      <td>freeCodeCamp.org</td>\n",
       "      <td>C++ Tutorial for Beginners - Full Course</td>\n",
       "      <td>12280808.0</td>\n",
       "    </tr>\n",
       "    <tr>\n",
       "      <th>13254</th>\n",
       "      <td>freeCodeCamp.org</td>\n",
       "      <td>C Programming Tutorial for Beginners</td>\n",
       "      <td>11452401.0</td>\n",
       "    </tr>\n",
       "    <tr>\n",
       "      <th>12506</th>\n",
       "      <td>freeCodeCamp.org</td>\n",
       "      <td>Harvard CS50 – Full Computer Science Universit...</td>\n",
       "      <td>11116950.0</td>\n",
       "    </tr>\n",
       "    <tr>\n",
       "      <th>6638</th>\n",
       "      <td>codebasics</td>\n",
       "      <td>Don't put toy dataset projects on your resume!</td>\n",
       "      <td>9352112.0</td>\n",
       "    </tr>\n",
       "    <tr>\n",
       "      <th>12824</th>\n",
       "      <td>freeCodeCamp.org</td>\n",
       "      <td>Microsoft Excel Tutorial for Beginners - Full ...</td>\n",
       "      <td>9035366.0</td>\n",
       "    </tr>\n",
       "    <tr>\n",
       "      <th>12929</th>\n",
       "      <td>freeCodeCamp.org</td>\n",
       "      <td>Introduction to Programming and Computer Scien...</td>\n",
       "      <td>8284519.0</td>\n",
       "    </tr>\n",
       "  </tbody>\n",
       "</table>\n",
       "</div>"
      ],
      "text/plain": [
       "           Channel_Name                                              Title  \\\n",
       "13295  freeCodeCamp.org  Learn Python - Full Course for Beginners [Tuto...   \n",
       "3825        WsCube Tech  Ethical HACKING Full Course in 10 HOURS (Begin...   \n",
       "13312  freeCodeCamp.org  SQL Tutorial - Full Database Course for Beginners   \n",
       "13102  freeCodeCamp.org       Learn JavaScript - Full Course for Beginners   \n",
       "13242  freeCodeCamp.org           C++ Tutorial for Beginners - Full Course   \n",
       "13254  freeCodeCamp.org               C Programming Tutorial for Beginners   \n",
       "12506  freeCodeCamp.org  Harvard CS50 – Full Computer Science Universit...   \n",
       "6638         codebasics     Don't put toy dataset projects on your resume!   \n",
       "12824  freeCodeCamp.org  Microsoft Excel Tutorial for Beginners - Full ...   \n",
       "12929  freeCodeCamp.org  Introduction to Programming and Computer Scien...   \n",
       "\n",
       "            Views  \n",
       "13295  44267093.0  \n",
       "3825   22017238.0  \n",
       "13312  18100085.0  \n",
       "13102  17141758.0  \n",
       "13242  12280808.0  \n",
       "13254  11452401.0  \n",
       "12506  11116950.0  \n",
       "6638    9352112.0  \n",
       "12824   9035366.0  \n",
       "12929   8284519.0  "
      ]
     },
     "execution_count": 11,
     "metadata": {},
     "output_type": "execute_result"
    }
   ],
   "source": [
    "top_videos_por_views = df[['Channel_Name', 'Title', 'Views']].sort_values(by='Views', ascending=False).head(10)\n",
    "top_videos_por_views\n",
    "\n"
   ]
  },
  {
   "cell_type": "markdown",
   "metadata": {},
   "source": [
    "TOP 10 VIDEOS COM MAIS LIKES"
   ]
  },
  {
   "cell_type": "code",
   "execution_count": 12,
   "metadata": {},
   "outputs": [
    {
     "data": {
      "text/html": [
       "<div>\n",
       "<style scoped>\n",
       "    .dataframe tbody tr th:only-of-type {\n",
       "        vertical-align: middle;\n",
       "    }\n",
       "\n",
       "    .dataframe tbody tr th {\n",
       "        vertical-align: top;\n",
       "    }\n",
       "\n",
       "    .dataframe thead th {\n",
       "        text-align: right;\n",
       "    }\n",
       "</style>\n",
       "<table border=\"1\" class=\"dataframe\">\n",
       "  <thead>\n",
       "    <tr style=\"text-align: right;\">\n",
       "      <th></th>\n",
       "      <th>Channel_Name</th>\n",
       "      <th>Title</th>\n",
       "      <th>Like_count</th>\n",
       "    </tr>\n",
       "  </thead>\n",
       "  <tbody>\n",
       "    <tr>\n",
       "      <th>13295</th>\n",
       "      <td>freeCodeCamp.org</td>\n",
       "      <td>Learn Python - Full Course for Beginners [Tuto...</td>\n",
       "      <td>1041273.0</td>\n",
       "    </tr>\n",
       "    <tr>\n",
       "      <th>3825</th>\n",
       "      <td>WsCube Tech</td>\n",
       "      <td>Ethical HACKING Full Course in 10 HOURS (Begin...</td>\n",
       "      <td>581831.0</td>\n",
       "    </tr>\n",
       "    <tr>\n",
       "      <th>12506</th>\n",
       "      <td>freeCodeCamp.org</td>\n",
       "      <td>Harvard CS50 – Full Computer Science Universit...</td>\n",
       "      <td>438036.0</td>\n",
       "    </tr>\n",
       "    <tr>\n",
       "      <th>13312</th>\n",
       "      <td>freeCodeCamp.org</td>\n",
       "      <td>SQL Tutorial - Full Database Course for Beginners</td>\n",
       "      <td>340592.0</td>\n",
       "    </tr>\n",
       "    <tr>\n",
       "      <th>13242</th>\n",
       "      <td>freeCodeCamp.org</td>\n",
       "      <td>C++ Tutorial for Beginners - Full Course</td>\n",
       "      <td>281268.0</td>\n",
       "    </tr>\n",
       "    <tr>\n",
       "      <th>13102</th>\n",
       "      <td>freeCodeCamp.org</td>\n",
       "      <td>Learn JavaScript - Full Course for Beginners</td>\n",
       "      <td>258906.0</td>\n",
       "    </tr>\n",
       "    <tr>\n",
       "      <th>818</th>\n",
       "      <td>Leila Gharani</td>\n",
       "      <td>How to Create a Dynamic Numbered List in Excel...</td>\n",
       "      <td>238520.0</td>\n",
       "    </tr>\n",
       "    <tr>\n",
       "      <th>12860</th>\n",
       "      <td>freeCodeCamp.org</td>\n",
       "      <td>Calculus 1 - Full College Course</td>\n",
       "      <td>231931.0</td>\n",
       "    </tr>\n",
       "    <tr>\n",
       "      <th>3295</th>\n",
       "      <td>WsCube Tech</td>\n",
       "      <td>How to Secure Your Home Wi-Fi Network from Hac...</td>\n",
       "      <td>229596.0</td>\n",
       "    </tr>\n",
       "    <tr>\n",
       "      <th>12984</th>\n",
       "      <td>freeCodeCamp.org</td>\n",
       "      <td>Full Ethical Hacking Course - Network Penetrat...</td>\n",
       "      <td>215472.0</td>\n",
       "    </tr>\n",
       "  </tbody>\n",
       "</table>\n",
       "</div>"
      ],
      "text/plain": [
       "           Channel_Name                                              Title  \\\n",
       "13295  freeCodeCamp.org  Learn Python - Full Course for Beginners [Tuto...   \n",
       "3825        WsCube Tech  Ethical HACKING Full Course in 10 HOURS (Begin...   \n",
       "12506  freeCodeCamp.org  Harvard CS50 – Full Computer Science Universit...   \n",
       "13312  freeCodeCamp.org  SQL Tutorial - Full Database Course for Beginners   \n",
       "13242  freeCodeCamp.org           C++ Tutorial for Beginners - Full Course   \n",
       "13102  freeCodeCamp.org       Learn JavaScript - Full Course for Beginners   \n",
       "818       Leila Gharani  How to Create a Dynamic Numbered List in Excel...   \n",
       "12860  freeCodeCamp.org                   Calculus 1 - Full College Course   \n",
       "3295        WsCube Tech  How to Secure Your Home Wi-Fi Network from Hac...   \n",
       "12984  freeCodeCamp.org  Full Ethical Hacking Course - Network Penetrat...   \n",
       "\n",
       "       Like_count  \n",
       "13295   1041273.0  \n",
       "3825     581831.0  \n",
       "12506    438036.0  \n",
       "13312    340592.0  \n",
       "13242    281268.0  \n",
       "13102    258906.0  \n",
       "818      238520.0  \n",
       "12860    231931.0  \n",
       "3295     229596.0  \n",
       "12984    215472.0  "
      ]
     },
     "execution_count": 12,
     "metadata": {},
     "output_type": "execute_result"
    }
   ],
   "source": [
    "top_videos_por_likes = df[['Channel_Name', 'Title', 'Like_count']].sort_values(by='Like_count', ascending=False).head(10)\n",
    "top_videos_por_likes\n"
   ]
  },
  {
   "cell_type": "markdown",
   "metadata": {},
   "source": [
    "TOP 10 VIDEOS COM MAIS COMENTARIOS"
   ]
  },
  {
   "cell_type": "code",
   "execution_count": 13,
   "metadata": {},
   "outputs": [
    {
     "data": {
      "text/html": [
       "<div>\n",
       "<style scoped>\n",
       "    .dataframe tbody tr th:only-of-type {\n",
       "        vertical-align: middle;\n",
       "    }\n",
       "\n",
       "    .dataframe tbody tr th {\n",
       "        vertical-align: top;\n",
       "    }\n",
       "\n",
       "    .dataframe thead th {\n",
       "        text-align: right;\n",
       "    }\n",
       "</style>\n",
       "<table border=\"1\" class=\"dataframe\">\n",
       "  <thead>\n",
       "    <tr style=\"text-align: right;\">\n",
       "      <th></th>\n",
       "      <th>Channel_Name</th>\n",
       "      <th>Title</th>\n",
       "      <th>Comment_Count</th>\n",
       "    </tr>\n",
       "  </thead>\n",
       "  <tbody>\n",
       "    <tr>\n",
       "      <th>13295</th>\n",
       "      <td>freeCodeCamp.org</td>\n",
       "      <td>Learn Python - Full Course for Beginners [Tuto...</td>\n",
       "      <td>44343.0</td>\n",
       "    </tr>\n",
       "    <tr>\n",
       "      <th>13242</th>\n",
       "      <td>freeCodeCamp.org</td>\n",
       "      <td>C++ Tutorial for Beginners - Full Course</td>\n",
       "      <td>11974.0</td>\n",
       "    </tr>\n",
       "    <tr>\n",
       "      <th>13312</th>\n",
       "      <td>freeCodeCamp.org</td>\n",
       "      <td>SQL Tutorial - Full Database Course for Beginners</td>\n",
       "      <td>11119.0</td>\n",
       "    </tr>\n",
       "    <tr>\n",
       "      <th>13224</th>\n",
       "      <td>freeCodeCamp.org</td>\n",
       "      <td>C# Tutorial - Full Course for Beginners</td>\n",
       "      <td>8661.0</td>\n",
       "    </tr>\n",
       "    <tr>\n",
       "      <th>13102</th>\n",
       "      <td>freeCodeCamp.org</td>\n",
       "      <td>Learn JavaScript - Full Course for Beginners</td>\n",
       "      <td>8558.0</td>\n",
       "    </tr>\n",
       "    <tr>\n",
       "      <th>3825</th>\n",
       "      <td>WsCube Tech</td>\n",
       "      <td>Ethical HACKING Full Course in 10 HOURS (Begin...</td>\n",
       "      <td>7774.0</td>\n",
       "    </tr>\n",
       "    <tr>\n",
       "      <th>12506</th>\n",
       "      <td>freeCodeCamp.org</td>\n",
       "      <td>Harvard CS50 – Full Computer Science Universit...</td>\n",
       "      <td>7335.0</td>\n",
       "    </tr>\n",
       "    <tr>\n",
       "      <th>13254</th>\n",
       "      <td>freeCodeCamp.org</td>\n",
       "      <td>C Programming Tutorial for Beginners</td>\n",
       "      <td>6686.0</td>\n",
       "    </tr>\n",
       "    <tr>\n",
       "      <th>12860</th>\n",
       "      <td>freeCodeCamp.org</td>\n",
       "      <td>Calculus 1 - Full College Course</td>\n",
       "      <td>5840.0</td>\n",
       "    </tr>\n",
       "    <tr>\n",
       "      <th>13200</th>\n",
       "      <td>freeCodeCamp.org</td>\n",
       "      <td>HTML Full Course - Build a Website Tutorial</td>\n",
       "      <td>5794.0</td>\n",
       "    </tr>\n",
       "  </tbody>\n",
       "</table>\n",
       "</div>"
      ],
      "text/plain": [
       "           Channel_Name                                              Title  \\\n",
       "13295  freeCodeCamp.org  Learn Python - Full Course for Beginners [Tuto...   \n",
       "13242  freeCodeCamp.org           C++ Tutorial for Beginners - Full Course   \n",
       "13312  freeCodeCamp.org  SQL Tutorial - Full Database Course for Beginners   \n",
       "13224  freeCodeCamp.org            C# Tutorial - Full Course for Beginners   \n",
       "13102  freeCodeCamp.org       Learn JavaScript - Full Course for Beginners   \n",
       "3825        WsCube Tech  Ethical HACKING Full Course in 10 HOURS (Begin...   \n",
       "12506  freeCodeCamp.org  Harvard CS50 – Full Computer Science Universit...   \n",
       "13254  freeCodeCamp.org               C Programming Tutorial for Beginners   \n",
       "12860  freeCodeCamp.org                   Calculus 1 - Full College Course   \n",
       "13200  freeCodeCamp.org        HTML Full Course - Build a Website Tutorial   \n",
       "\n",
       "       Comment_Count  \n",
       "13295        44343.0  \n",
       "13242        11974.0  \n",
       "13312        11119.0  \n",
       "13224         8661.0  \n",
       "13102         8558.0  \n",
       "3825          7774.0  \n",
       "12506         7335.0  \n",
       "13254         6686.0  \n",
       "12860         5840.0  \n",
       "13200         5794.0  "
      ]
     },
     "execution_count": 13,
     "metadata": {},
     "output_type": "execute_result"
    }
   ],
   "source": [
    "top_videos_por_comentarios = df[['Channel_Name', 'Title', 'Comment_Count']].sort_values(by='Comment_Count', ascending=False).head(10)\n",
    "top_videos_por_comentarios\n"
   ]
  },
  {
   "cell_type": "markdown",
   "metadata": {},
   "source": [
    "CANAIS COM MAIOR CRESCIMENTO DE VISUALIZACOES "
   ]
  },
  {
   "cell_type": "code",
   "execution_count": 14,
   "metadata": {},
   "outputs": [
    {
     "data": {
      "image/png": "[encoded data removed]",
      "text/plain": [
       "<Figure size 1000x600 with 1 Axes>"
      ]
     },
     "metadata": {},
     "output_type": "display_data"
    }
   ],
   "source": [
    "\n",
    "\n",
    "df['Published_date'] = pd.to_datetime(df['Published_date'])\n",
    "\n",
    "crescimento = df.groupby('Channel_Name').agg(\n",
    "    visualizacao_inicio=('Views', 'min'),\n",
    "    visualizacao_fim=('Views', 'max')\n",
    ")\n",
    "\n",
    "\n",
    "crescimento['crescimento'] = crescimento['visualizacao_fim'] - crescimento['visualizacao_inicio']\n",
    "\n",
    "crescimento = crescimento.sort_values(by='crescimento', ascending=False).head(10)\n",
    "\n",
    "plt.figure(figsize=(10, 6))\n",
    "crescimento['crescimento'].plot(kind='bar', color='purple')\n",
    "\n",
    "plt.title('Top 10 Canais com Maior Crescimento de Visualizações')\n",
    "plt.xlabel('Canal')\n",
    "plt.ylabel('Crescimento de Visualizações')\n",
    "plt.xticks(rotation=45)\n",
    "plt.tight_layout()\n",
    "plt.show()\n"
   ]
  },
  {
   "cell_type": "markdown",
   "metadata": {},
   "source": [
    "TOPICOS DE MAIS INTERESSE DO PUBLICO"
   ]
  },
  {
   "cell_type": "code",
   "execution_count": 15,
   "metadata": {},
   "outputs": [
    {
     "data": {
      "image/png": "[encoded data removed]",
      "text/plain": [
       "<Figure size 1000x600 with 1 Axes>"
      ]
     },
     "metadata": {},
     "output_type": "display_data"
    },
    {
     "data": {
      "text/plain": [
       "Tópico\n",
       "Outro                     1.235095e+09\n",
       "Excel                     3.792194e+08\n",
       "Python                    2.796967e+08\n",
       "Ciência de Dados          2.039352e+08\n",
       "IA                        1.927767e+08\n",
       "Aprendizado de Máquina    1.328717e+08\n",
       "SQL                       7.343323e+07\n",
       "Power BI                  5.499407e+07\n",
       "Cloud Computing           2.559124e+07\n",
       "R                         2.277892e+07\n",
       "Visualização de Dados     7.959421e+06\n",
       "Data Engineering          3.709508e+06\n",
       "Name: Views, dtype: float64"
      ]
     },
     "execution_count": 15,
     "metadata": {},
     "output_type": "execute_result"
    }
   ],
   "source": [
    "palavras_chave = {\n",
    "    'Ciência de Dados': ['data science', 'data analysis', 'analytics', 'data visualization', 'big data', 'estatística', 'data wrangling', 'análise de dados', 'data science', 'machine learning', 'data analysis'],\n",
    "    'Aprendizado de Máquina': ['machine learning', 'ml', 'deep learning', 'neural networks', 'artificial intelligence', 'inteligência artificial', 'algorithms', 'supervised learning', 'unsupervised learning', 'reinforcement learning'],\n",
    "    'IA': ['artificial intelligence', 'ai', 'robot', 'automation', 'inteligência artificial', 'automação', 'robótica', 'neural networks', 'computer vision'],\n",
    "    'Python': ['python', 'pandas', 'numpy', 'python tutorial', 'programação python', 'data science python', 'python for beginners', 'python data analysis', 'python machine learning'],\n",
    "    'Excel': ['excel', 'spreadsheet', 'excel tutorial', 'excel for data analysis', 'tabelas excel', 'planilhas', 'excel functions', 'excel dashboards'],\n",
    "    'Power BI': ['power bi', 'business intelligence', 'dashboard', 'powerbi', 'visualization', 'relatórios power bi', 'power bi tutorial'],\n",
    "    'SQL': ['sql', 'database', 'query', 'sql tutorial', 'banco de dados', 'consulta sql', 'relational databases', 'sql server'],\n",
    "    'R': ['r programming', 'r language', 'r tutorial', 'data analysis with r', 'statistical analysis with r'],\n",
    "    'Data Engineering': ['data engineering', 'data pipeline', 'ETL', 'data architecture', 'big data architecture', 'data lakes'],\n",
    "    'Cloud Computing': ['cloud computing', 'computação em nuvem', 'aws', 'azure', 'google cloud', 'cloud services', 'cloud infrastructure'],\n",
    "    'Visualização de Dados': ['data visualization', 'visualização de dados', 'interactive charts', 'plotly', 'matplotlib', 'seaborn', 'tableau', 'd3.js'],\n",
    "    'Deep Learning': ['deep learning', 'deep neural networks', 'neural networks', 'image recognition', 'deep learning tutorial', 'reinforcement learning'] \n",
    "}\n",
    "def categorizar_video(titulo, palavras_chave):\n",
    "    for topico, palavras in palavras_chave.items():\n",
    "        if any(palavra.lower() in titulo.lower() for palavra in palavras):\n",
    "            return topico\n",
    "    return 'Outro'\n",
    "\n",
    "df['Tópico'] = df['Title'].apply(lambda titulo: categorizar_video(titulo, palavras_chave))\n",
    "visualizacoes_por_topico = df.groupby('Tópico')['Views'].sum().sort_values(ascending=False)\n",
    "\n",
    "plt.figure(figsize=(10, 6))\n",
    "visualizacoes_por_topico.plot(kind='bar', color='teal')\n",
    "plt.title('Tópicos com Mais Visualizacões')\n",
    "plt.xlabel('Tópico')\n",
    "plt.ylabel('Visualizações Totais')\n",
    "plt.xticks(rotation=45)\n",
    "plt.tight_layout()\n",
    "plt.show()\n",
    "\n",
    "visualizacoes_por_topico"
   ]
  },
  {
   "cell_type": "code",
   "execution_count": 16,
   "metadata": {},
   "outputs": [],
   "source": [
    "df.to_csv('processed_youtube_data.csv', index=False)\n",
    "crescimento.to_csv('channel_growth.csv', index=True)\n",
    "visualizacoes_por_topico.to_csv('views_by_topic.csv', index=True)"
   ]
  }
 ],
 "metadata": {
  "kernelspec": {
   "display_name": "base",
   "language": "python",
   "name": "python3"
  },
  "language_info": {
   "codemirror_mode": {
    "name": "ipython",
    "version": 3
   },
   "file_extension": ".py",
   "mimetype": "text/x-python",
   "name": "python",
   "nbconvert_exporter": "python",
   "pygments_lexer": "ipython3",
   "version": "3.12.7"
  }
 },
 "nbformat": 4,
 "nbformat_minor": 2
}
